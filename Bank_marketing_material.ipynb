{
 "cells": [
  {
   "cell_type": "markdown",
   "metadata": {
    "deletable": false
   },
   "source": [
    "# 給經理人的一堂AI實作課\n",
    "## 《實作一》Python快速入門指南：用Jupyter Notebook編輯參數與執行\n",
    "\n",
    "<br>\n",
    "<br><br>\n",
    "<img style=\"float: right;\" src=\"https://upload.wikimedia.org/wikipedia/commons/thumb/5/51/IBM_logo.svg/2560px-IBM_logo.svg.png\" width=\"200\">\n",
    "徐志煌$^{1}$、阮公義$^{1}$<br>\n",
    "<br>\n",
    "$^1$台灣IBM公司雲端運算暨認知軟體事業部 菜鳥資料科學家<br>\n",
    "\n",
    "2019/08/28 台北恆逸教育訓練中心\n",
    "\n",
    "<br>\n",
    "\n",
    "---"
   ]
  },
  {
   "cell_type": "markdown",
   "metadata": {
    "deletable": false,
    "editable": false
   },
   "source": [
    "<img style=\"float: right;\" src=\"https://raw.githubusercontent.com/nghia1991ad/wsl-workshop-material/master/screenshot/data-science-element.png\" width=\"450\">\n",
    "\n",
    "# 資料科學 Data Science\n",
    "<br><br>\n",
    "## 「資料科學是一種概念，是聯合統計學、資料分析、<br>機器學習與相關方法，從資料中理解與分析真實發生<br>的現象。」- Hayashi (1998)"
   ]
  },
  {
   "cell_type": "markdown",
   "metadata": {
    "deletable": false
   },
   "source": [
    "<img style=\"float: right;\" src=\"https://raw.githubusercontent.com/nghia1991ad/wsl-workshop-material/master/screenshot/methodology.png\" width=\"600\">\n",
    "\n",
    "## 資料科學方法論\n",
    "\n",
    "\n",
    "參考資料：https://www.ibmbigdatahub.com/blog/why-we-need-methodology-data-science"
   ]
  },
  {
   "cell_type": "markdown",
   "metadata": {
    "deletable": false
   },
   "source": [
    "<img style=\"float: right;\" src=\"https://raw.githubusercontent.com/nghia1991ad/wsl-workshop-material/master/screenshot/logo.jpg\" width=\"400\">\n",
    "\n",
    "<br>\n",
    "\n",
    "## 使用Jupyter Notebook搭建資料科學最佳互動式環境\n",
    "\n",
    "<br>\n",
    "* 適合數據分析的「處理-計算-分析」過程<br>\n",
    "* 支援Python, R, MATLAB等多種程式語言<br>\n",
    "* 易於以網頁的形式分享，支援匯出成多種格式文件<br>\n",
    "* Watson Studio支援雲端資料存取與部署"
   ]
  },
  {
   "cell_type": "markdown",
   "metadata": {
    "deletable": false,
    "editable": false
   },
   "source": [
    "## 基礎Jupyter Notebook操作\n",
    "\n",
    "1. 執行程式碼：選擇要執行的Cell，點選上方的__Run鍵__，或是__shift+enter__。\n",
    "\n",
    "---"
   ]
  },
  {
   "cell_type": "markdown",
   "metadata": {
    "deletable": false,
    "editable": false
   },
   "source": [
    "## 案例實作\n",
    "在這個實作課程，我們將會示範如何使用Watson Studio x Jupyter Notebook來建立簡單的AI預測模型。其中會以一個商業應用為案例，帶領各位從最一開始的資料蒐集，最終至模型部署。\n",
    "\n",
    "## 目錄<a class=\"anchor\" id=\"toc\"></a>\n",
    "* [1. 商業理解](#business-understanding)\n",
    "* [2. 資料蒐集](#data-collection)\n",
    "* [3. 資料理解](#data-understanding)\n",
    "* [4. 資料準備](#data-preparation)\n",
    "* [5. 建立模型](#modeling)\n",
    "* [6. 模型評估](#evaluation)\n",
    "* [7. 部署模型](#deployment)\n",
    "* [8. 應用存取](#app_accessing)\n",
    "* [9. 結語](#concluding_remarks)\n",
    "\n",
    "---"
   ]
  },
  {
   "cell_type": "markdown",
   "metadata": {
    "deletable": false,
    "editable": false
   },
   "source": [
    "## 1. 商業理解 <a class=\"anchor\" id=\"business-understanding\"></a>\n",
    "[返回目錄](#toc)\n",
    "\n",
    "### 題目：以數據為依據的銀行電話行銷結果預測\n",
    "#### 摘要：這數據是源於葡萄牙銀行機構的直接市場行銷活動(電話)，專案目標是預測客戶是否會申請定期存款(變數y)。\n",
    "\n",
    "\n",
    "\n",
    "參考資料：https://archive.ics.uci.edu/ml/datasets/Bank+Marketing\n",
    "\n",
    "---"
   ]
  },
  {
   "cell_type": "markdown",
   "metadata": {
    "deletable": false,
    "editable": false
   },
   "source": [
    "## 2. 資料蒐集 <a class=\"anchor\" id=\"data-collection\"></a>\n",
    "\n",
    "[返回目錄](#toc)\n",
    "<br>\n",
    "<!--\n",
    "### 2.1. 建立Notebook\n",
    "1. 在WS中點選__Add to progect__。\n",
    "2. 點選__Notebook__。\n",
    "3. 選擇上方的__From file__。\n",
    "4. 點選右側的__Choose file__後選擇檔案，點選__Create Notebook__。\n",
    "<br>(截圖：[步驟1,2](https://github.com/nghia1991ad/wsl-workshop-material/blob/master/screenshot/wsl-add-notebook1.jpg?raw=true)、[步驟3,4](https://github.com/nghia1991ad/wsl-workshop-material/blob/master/screenshot/wsl-add-notebook.jpg?raw=true))\n",
    "-->\n",
    "### 2.1. 上傳數據集\n",
    "1. 在WS中點選__Add to progect__。\n",
    "2. 點選__Data__。\n",
    "3. 將資料拖曳至側邊欄中上傳。\n",
    "<br>(截圖：[步驟1,2,3](https://github.com/nghia1991ad/wsl-workshop-material/blob/master/screenshot/wsl-add-data.jpg?raw=true))\n",
    "\n",
    "### 2.2. 讀取儲存在WSL中的.csv檔案(Bank marketing data)\n",
    "1. 將游標點選想要插入資料處。\n",
    "2. 點選右側有一個的圖示。\n",
    "3. 點選bank.csv下方的__Insert to code__。\n",
    "4. 點選__Insert pandas DataFrame__，插入資料程式碼。\n",
    "<br>(截圖：[步驟2,3,4](https://github.com/nghia1991ad/wsl-workshop-material/blob/master/screenshot/wsl-insert-data.jpg?raw=true))"
   ]
  },
  {
   "cell_type": "code",
   "execution_count": null,
   "metadata": {
    "scrolled": true
   },
   "outputs": [],
   "source": [
    "# 加入WS中的數據集，方法請參閱上面步驟\n"
   ]
  },
  {
   "cell_type": "markdown",
   "metadata": {
    "deletable": false,
    "editable": false
   },
   "source": [
    "---\n",
    "## 3. 資料理解 <a class=\"anchor\" id=\"data-understanding\"></a>\n",
    "\n",
    "[返回目錄](#toc)\n",
    "\n",
    "### 3.1. 資料特徵與模型目標\n",
    "\n",
    "#### 數據集資訊：\n",
    "這資料是源於葡萄牙銀行機構的直接市場行銷活動，市場行銷活動是基於電話。為了確認客戶是否會訂閱產品，對於同一個客戶通常會有一次以上的聯繫。\n",
    "\n",
    "~~~\n",
    "\n",
    "Bank client data:\n",
    "\n",
    "1 - age: (numeric)\n",
    "2 - job: type of job (categorical: 'admin.','blue-collar','entrepreneur','housemaid','management','retired','self-employed','services','student','technician','unemployed','unknown')\n",
    "3 - marital: marital status (categorical: 'divorced','married','single','unknown'; note: 'divorced' means divorced or widowed)\n",
    "4 - education: (categorical: primary, secondary, tertiary and unknown)\n",
    "5 - default: has credit in default? (categorical: 'no','yes','unknown')\n",
    "6 - housing: has housing loan? (categorical: 'no','yes','unknown')\n",
    "7 - loan: has personal loan? (categorical: 'no','yes','unknown')\n",
    "8 - balance: Balance of the individual.\n",
    "\n",
    "Related with the last contact of the current campaign:\n",
    "\n",
    "9 - contact: contact communication type (categorical: 'cellular','telephone')\n",
    "10 - month: last contact month of year (categorical: 'jan', 'feb', 'mar', ..., 'nov', 'dec')\n",
    "11 - day: last contact day \n",
    "12 - duration: last contact duration, in seconds (numeric). Important note: this attribute highly affects the output target (e.g., if duration=0 then y='no'). Yet, the duration is not known before a call is performed. Also, after the end of the call y is obviously known. Thus, this input should only be included for benchmark purposes and should be discarded if the intention is to have a realistic predictive model.\n",
    "\n",
    "Other attributes:\n",
    "\n",
    "13 - campaign: number of contacts performed during this campaign and for this client (numeric, includes last contact)\n",
    "14 - pdays: number of days that passed by after the client was last contacted from a previous campaign (numeric; -1 means client was not previously contacted)\n",
    "15 - previous: number of contacts performed before this campaign and for this client (numeric)\n",
    "16 - poutcome: outcome of the previous marketing campaign (categorical: 'failure','nonexistent','success')\n",
    "\n",
    "Output variable (desired target):\n",
    "17 - y - has the client subscribed a term deposit? (binary: 'yes','no')\n",
    "~~~"
   ]
  },
  {
   "cell_type": "code",
   "execution_count": null,
   "metadata": {},
   "outputs": [],
   "source": [
    "import numpy as np\n",
    "import seaborn as sns\n",
    "import matplotlib.pyplot as plt\n",
    "import warnings\n",
    "warnings.filterwarnings(\"ignore\")\n",
    "\n",
    "df = df_data_1.drop('day',axis=1).copy()\n",
    "# 改變月份敘述方式為數字\n",
    "months = {'jan':1,'feb':2,'mar':3,'apr':4,'may':5,'jun':6,'jul':7,'aug':8,'sep':9,'oct':10,'nov':11,'dec':12}\n",
    "df.month = df.month.map(months)\n",
    "\n",
    "print(\"The dimension of the data is {} rows and {} columns\".format(df.shape[0],df.shape[1]))"
   ]
  },
  {
   "cell_type": "markdown",
   "metadata": {
    "deletable": false,
    "editable": false
   },
   "source": [
    "\n",
    "### 3.2. 探索資料與其特徵\n",
    "### 3.2.1. 統計描述"
   ]
  },
  {
   "cell_type": "code",
   "execution_count": null,
   "metadata": {},
   "outputs": [],
   "source": [
    "df.describe(include=\"all\")"
   ]
  },
  {
   "cell_type": "markdown",
   "metadata": {
    "deletable": false,
    "editable": false
   },
   "source": [
    "### 3.2.2. 連續資料"
   ]
  },
  {
   "cell_type": "code",
   "execution_count": null,
   "metadata": {},
   "outputs": [],
   "source": [
    "# 請將下面程式碼中的<提示>取代為對應的變數名稱\n",
    "\n",
    "# 連續資料：'age','balance','duration','campaign','pdays','previous'\n",
    "# 請在下方填入其中一種連續資料的名稱，即可檢視資料分布\n",
    "var_name = '<特徵標籤>'\n",
    "\n",
    "fig, (ax1, ax2) = plt.subplots(nrows = 1, ncols = 2, figsize = (12, 5))\n",
    "\n",
    "sns.distplot(df[var_name],kde=False,color='green', ax = ax1)\n",
    "sns.despine(ax = ax1)\n",
    "ax1.set_title(var_name.capitalize() + ' Count Distribution', fontsize=15)\n",
    "ax1.set_xlabel(var_name.capitalize(), fontsize=15)\n",
    "ax1.set_ylabel('Count', fontsize=15)\n",
    "\n",
    "sns.boxplot(x = var_name, data = df, orient = 'v', ax = ax2)\n",
    "sns.despine(ax = ax2)\n",
    "ax2.set_title(var_name.capitalize() + ' Distribution', fontsize=15)\n",
    "ax2.set_ylabel(var_name.capitalize(), fontsize=15)\n",
    "plt.show()"
   ]
  },
  {
   "cell_type": "markdown",
   "metadata": {
    "deletable": false,
    "editable": false
   },
   "source": [
    "### 3.2.3. 類別資料"
   ]
  },
  {
   "cell_type": "code",
   "execution_count": null,
   "metadata": {},
   "outputs": [],
   "source": [
    "# 請將下面程式碼中的<提示>取代為對應的變數名稱\n",
    "\n",
    "# 類別資料：'job', 'marital', 'education', 'default','housing', 'loan', 'contact', 'month','poutcome'\n",
    "# 請在下方填入其中一種類別資料的名稱，即可檢視資料分布\n",
    "var_name = '<特徵標籤>'\n",
    "\n",
    "plt.figure(figsize=(10, 5))\n",
    "sns.countplot(x = var_name, data = df)                     \n",
    "sns.despine()\n",
    "plt.title(var_name.capitalize() + ' Count Distribution', fontsize=15)\n",
    "plt.xlabel(var_name.capitalize(), fontsize=15)\n",
    "plt.ylabel('Count', fontsize=15)\n",
    "plt.xticks(rotation='45',horizontalalignment='right')\n",
    "plt.tick_params(labelsize=15)\n",
    "plt.show()"
   ]
  },
  {
   "cell_type": "markdown",
   "metadata": {
    "deletable": false,
    "editable": false
   },
   "source": [
    "### 3.2.4. 相關係數"
   ]
  },
  {
   "cell_type": "code",
   "execution_count": null,
   "metadata": {},
   "outputs": [],
   "source": [
    "from sklearn.preprocessing import LabelEncoder\n",
    "\n",
    "df_encoder = df.apply(LabelEncoder().fit_transform)\n",
    "plt.figure(figsize=(12,10))\n",
    "sns.heatmap(df_encoder.corr(),annot=True,fmt=\".2f\",cmap=\"seismic\",vmin=-1,vmax=1)\n",
    "plt.show()"
   ]
  },
  {
   "cell_type": "markdown",
   "metadata": {
    "deletable": false,
    "editable": false
   },
   "source": [
    "\n",
    "---\n",
    "## 4. 資料準備 <a class=\"anchor\" id=\"data-preparation\"></a>\n",
    "\n",
    "[返回目錄](#toc)"
   ]
  },
  {
   "cell_type": "code",
   "execution_count": null,
   "metadata": {},
   "outputs": [],
   "source": [
    "df.head()"
   ]
  },
  {
   "cell_type": "code",
   "execution_count": null,
   "metadata": {},
   "outputs": [],
   "source": [
    "from sklearn.preprocessing import LabelEncoder, StandardScaler, OneHotEncoder\n",
    "\n",
    "# 將no/yes標籤轉為0/1\n",
    "y = LabelEncoder().fit_transform(df['y'])\n",
    "\n",
    "categorical_features = ['job', 'marital', 'education', 'default','housing',\n",
    "                        'loan', 'contact', 'month','poutcome']\n",
    "numeric_features = ['age','balance','duration','campaign','pdays','previous']\n",
    "\n",
    "# 請將下面程式碼中的<提示>取代為對應的變數名稱\n",
    "# 將類別數據中的不同標籤分成不同欄位的0/1\n",
    "X_categorical = OneHotEncoder().fit_transform(df[<類別資料標籤>]).toarray()\n",
    "# 將連續資料標準化\n",
    "X_numeric = StandardScaler().fit_transform(df[<連續資料標籤>])\n",
    "\n",
    "X = np.concatenate((X_categorical,X_numeric),axis=1)\n",
    "X.shape"
   ]
  },
  {
   "cell_type": "markdown",
   "metadata": {
    "deletable": false,
    "editable": false
   },
   "source": [
    "---\n",
    "## 5. 建立模型 <a class=\"anchor\" id=\"modeling\"></a>\n",
    "[返回目錄](#toc)\n",
    "### 5.1. 將資料分割為訓練與測試兩組"
   ]
  },
  {
   "cell_type": "code",
   "execution_count": null,
   "metadata": {},
   "outputs": [],
   "source": [
    "from sklearn.model_selection import train_test_split\n",
    "np.random.seed(100)\n",
    "\n",
    "# 分割資料 訓練:測試 為 3:1 比例\n",
    "X_train, X_test, y_train, y_test = train_test_split(X, y, test_size = 0.25)"
   ]
  },
  {
   "cell_type": "code",
   "execution_count": null,
   "metadata": {},
   "outputs": [],
   "source": [
    "print('Training Features Shape:', X_train.shape)\n",
    "print('Training Labels Shape:', y_train.shape)\n",
    "print('Testing Features Shape:', X_test.shape)\n",
    "print('Testing Labels Shape:', y_test.shape)"
   ]
  },
  {
   "cell_type": "markdown",
   "metadata": {
    "deletable": false,
    "editable": false
   },
   "source": [
    "### 5.2. 製作預測模型\n",
    "\n",
    "現在資料已經準備齊全，我們開始使用機器學習分類模型"
   ]
  },
  {
   "cell_type": "code",
   "execution_count": null,
   "metadata": {},
   "outputs": [],
   "source": [
    "def plot_cm(cm):\n",
    "    plt.figure(figsize=(5,5))\n",
    "    tn, fp, fn, tp = cm.ravel()\n",
    "    cm = [[\"{}\\n (TP)\".format(tp),\"{}\\n (FP)\".format(fp)],\n",
    "          [\"{}\\n (FN)\".format(fn),\"{}\\n (TN)\".format(tn)]]\n",
    "    ax = sns.heatmap([[1,0],[0,1]], annot=np.array(cm), cmap=['pink','lightgreen'],\n",
    "                fmt=\"s\",cbar=False,xticklabels=['Yes',\"No\"],yticklabels=['Yes','No'],annot_kws={\"size\": 12})\n",
    "    ax.set_xlabel(\"Actual\",)\n",
    "    ax.set_ylabel(\"Predict\")\n",
    "    ax.xaxis.set_label_position('top') \n",
    "    ax.tick_params(axis='both', which='major', labelsize=12, labelbottom = False, bottom=False, top = False, labeltop=True,left=False)\n",
    "    plt.show()\n",
    "    print(\"The precision = TP/(TP+FP) = {}/({}+{}) = {:.3f}\".format(tp,tp,fp,tp/(tp+fp)))\n",
    "    print(\"The recall = TP/(TP+FN) = {}/({}+{}) = {:.3f}\".format(tp,tp,fn,tp/(tp+fn)))"
   ]
  },
  {
   "cell_type": "code",
   "execution_count": null,
   "metadata": {},
   "outputs": [],
   "source": [
    "# Logistic Regression\n",
    "from sklearn.metrics import confusion_matrix, recall_score, precision_score\n",
    "from sklearn.linear_model import LogisticRegression\n",
    "logmodel = LogisticRegression() \n",
    "logmodel.fit(X_train,y_train)\n",
    "logpred = logmodel.predict(X_test)\n",
    "\n",
    "plot_cm(confusion_matrix(y_test, logpred))"
   ]
  },
  {
   "cell_type": "code",
   "execution_count": null,
   "metadata": {},
   "outputs": [],
   "source": [
    "# Random Forest Classifier\n",
    "from sklearn.ensemble import RandomForestClassifier\n",
    "rfc = RandomForestClassifier()\n",
    "rfc.fit(X_train, y_train)\n",
    "rfcpred = rfc.predict(X_test)\n",
    "\n",
    "plot_cm(confusion_matrix(y_test,rfcpred))"
   ]
  },
  {
   "cell_type": "code",
   "execution_count": null,
   "metadata": {},
   "outputs": [],
   "source": [
    "# Decision Tree Classifier\n",
    "from sklearn.tree import DecisionTreeClassifier\n",
    "dtree = DecisionTreeClassifier()\n",
    "dtree.fit(X_train, y_train)\n",
    "dtreepred = dtree.predict(X_test)\n",
    "\n",
    "plot_cm(confusion_matrix(y_test, dtreepred))"
   ]
  },
  {
   "cell_type": "code",
   "execution_count": null,
   "metadata": {},
   "outputs": [],
   "source": [
    "# Gradient Boosting Classifier\n",
    "from sklearn.ensemble import GradientBoostingClassifier\n",
    "gb = GradientBoostingClassifier()\n",
    "gb.fit(X_train, y_train)\n",
    "gbpred = gb.predict(X_test)\n",
    "\n",
    "plot_cm(confusion_matrix(y_test,gbpred))"
   ]
  },
  {
   "cell_type": "markdown",
   "metadata": {
    "deletable": false,
    "editable": false
   },
   "source": [
    "---\n",
    "## 6. 模型評估 <a class=\"anchor\" id=\"evaluation\"></a>\n",
    "[返回目錄](#toc)\n",
    "\n",
    "對於預測模型，我們會使用AUC ROC(註1)評估模型的準確度。<br>\n",
    "之後會使用特徵重要性(Feature Importance)分析特徵對於預測結果的影響力。\n",
    "\n",
    "\n",
    "註1: Area Under Curve of Receiver Operating Curve\n",
    "\n",
    "### 6.1 AUC ROC\n",
    "\n",
    "準確度(Accuracy)是使用ROC曲線下的面積來計算，面積為1則是代表完美的測試，面積為0.5則是代表無效測試。<br>以下為對於測試結果準確度的一個粗略分類：\n",
    "\n",
    "0.90-1.00 = excellent (A)<br>\n",
    "0.80-0.90 = good (B)<br>\n",
    "0.70-0.80 = fair (C)<br>\n",
    "0.60-0.70 = poor (D)<br>\n",
    "0.50-0.60 = fail (F)\n"
   ]
  },
  {
   "cell_type": "code",
   "execution_count": null,
   "metadata": {},
   "outputs": [],
   "source": [
    "from sklearn.metrics import roc_curve, auc\n",
    "\n",
    "#計算AUCROC\n",
    "\n",
    "#LOGMODEL\n",
    "probs = logmodel.predict_proba(X_test)\n",
    "preds = probs[:,1]\n",
    "fprlog, tprlog, thresholdlog = roc_curve(y_test, preds)\n",
    "roc_auclog = auc(fprlog, tprlog)\n",
    "\n",
    "#RANDOM FOREST --------------------\n",
    "probs = rfc.predict_proba(X_test)\n",
    "preds = probs[:,1]\n",
    "fprrfc, tprrfc, thresholdrfc = roc_curve(y_test, preds)\n",
    "roc_aucrfc = auc(fprrfc, tprrfc)\n",
    "\n",
    "#DECISION TREE ---------------------\n",
    "probs = dtree.predict_proba(X_test)\n",
    "preds = probs[:,1]\n",
    "fprdtree, tprdtree, thresholddtree = roc_curve(y_test, preds)\n",
    "roc_aucdtree = auc(fprdtree, tprdtree)\n",
    "\n",
    "#GRADIENT BOOSTING -----------------\n",
    "probs = gb.predict_proba(X_test)\n",
    "preds = probs[:,1]\n",
    "fprgb, tprgb, thresholdgb = roc_curve(y_test, preds)\n",
    "roc_aucgb = auc(fprgb, tprgb)\n",
    "\n",
    "# #ALL PLOTS ----------------------------------\n",
    "plt.figure(figsize = (8,8))\n",
    "plt.plot([0,1], [0,1], 'r--',alpha=0.5)\n",
    "plt.plot(fprdtree, tprdtree, 'b', label = 'Decision Tree (%.3f)'%roc_aucdtree, color='brown')\n",
    "plt.plot(fprrfc, tprrfc, 'b', label = 'Random Forest (%.3f)'%roc_aucrfc, color='green')\n",
    "plt.plot(fprlog, tprlog, 'b', label = 'Logistic (%.3f)'%roc_auclog, color='grey')\n",
    "plt.plot(fprgb, tprgb, 'b', label = 'Gradient Boosting (%.3f)'%roc_aucgb, color='blue')\n",
    "plt.title('Receiver Operating Comparison ',fontsize=20)\n",
    "plt.ylabel('True Positive Rate',fontsize=20)\n",
    "plt.xlabel('False Positive Rate',fontsize=15)\n",
    "plt.legend(loc = 'lower right', prop={'size': 16})\n",
    "plt.show()"
   ]
  },
  {
   "cell_type": "code",
   "execution_count": null,
   "metadata": {},
   "outputs": [],
   "source": [
    "# 統整比較模型AUCROC數值\n",
    "models = pd.DataFrame({'Model':['Random Forest Classifier', 'Decision Tree Classifier','Logistic Model','Gradient Boosting'],\n",
    "                       'AUC ROC':[roc_aucrfc,roc_aucdtree,roc_auclog,roc_aucgb]}) \n",
    "models.sort_values(by='AUC ROC', ascending=False)"
   ]
  },
  {
   "cell_type": "markdown",
   "metadata": {
    "deletable": false,
    "editable": false
   },
   "source": [
    "### 6.2 Feature Importance\n",
    "特徵重要性(feature importance)能顯示出哪些變量對於以建立好的模型所作出的預測結果有重要的影想力。\n",
    "隨後會用累積特徵重要性(cumulative feature importance)觀察"
   ]
  },
  {
   "cell_type": "code",
   "execution_count": null,
   "metadata": {},
   "outputs": [],
   "source": [
    "# 讀取特徵重要性\n",
    "list_features = pd.get_dummies(df[categorical_features].astype(str)).columns.to_list()+numeric_features\n",
    "feature_importances = pd.DataFrame(gb.feature_importances_,columns=[\"Importance\"],index=list_features)\n",
    "feature_importances.sort_values(by=\"Importance\",ascending=False,inplace=True)\n",
    "\n",
    "plt.figure(figsize=(10,10))\n",
    "sns.barplot(feature_importances.Importance,feature_importances.index,palette='muted')\n",
    "plt.grid(axis='x',which='major')\n",
    "plt.title('Feature Importance')\n",
    "plt.xlabel('Normalized Importance')\n",
    "plt.show()"
   ]
  },
  {
   "cell_type": "code",
   "execution_count": null,
   "metadata": {},
   "outputs": [],
   "source": [
    "# 計算累積特徵重要性\n",
    "cumulation_importance = feature_importances.Importance.cumsum()\n",
    "\n",
    "plt.figure(figsize=(9,6))\n",
    "plt.step(np.arange(0,51,1), [0]+list(cumulation_importance),zorder=2)\n",
    "# 繪製累積重要性至95%標注線\n",
    "plt.plot([0,50],[.95,.95],'r--',zorder=1)\n",
    "# 繪製累積重要性達95%的特徵數，在此實作中為20個\n",
    "plt.plot([20,20],[0,1.1],'--',color='grey',zorder=1)\n",
    "plt.ylim(0,1.1)\n",
    "plt.title('Cumulative Feature Importances')\n",
    "plt.xlabel('Number of Features')\n",
    "plt.ylabel('Cumulative Importance')\n",
    "plt.show()"
   ]
  },
  {
   "cell_type": "markdown",
   "metadata": {
    "deletable": false
   },
   "source": [
    "### 結論\n",
    "\n",
    "從前面的步驟中，我們首先數據視覺化，並使用統計方法檢視，然後使用了許多分類模型，嘗試對於這份銀行市場行銷數據作出預測模型。最後我們在嘗試過的4種模型中，其中的Gradient Boosting模型得到了最高的AUCROC = ~0.913，並且也檢視其特徵重要性。\n",
    "\n",
    "---\n",
    "\n",
    "## 7. 部署模型 <a class=\"anchor\" id=\"deployment\"></a>\n",
    "[返回目錄](#toc)\n",
    "### 7.1. 封裝模型\n",
    "\n",
    "接下來我們將把「資料準備」的過程與「建立模型」中最好的模型封裝至一起，以利部署模型。"
   ]
  },
  {
   "cell_type": "code",
   "execution_count": null,
   "metadata": {},
   "outputs": [],
   "source": [
    "from sklearn.compose import ColumnTransformer\n",
    "from sklearn.pipeline import Pipeline\n",
    "from sklearn.impute import SimpleImputer\n",
    "from sklearn.preprocessing import StandardScaler, OneHotEncoder\n",
    "from sklearn.ensemble import GradientBoostingClassifier\n",
    "\n",
    "categorical_features = ['job', 'marital', 'education', 'default','housing',\n",
    "                        'loan', 'contact', 'month','poutcome']\n",
    "numeric_features = ['age','balance','duration','campaign','pdays','previous']\n",
    "\n",
    "categorical_transformer = Pipeline(steps=[('onehot', OneHotEncoder())])\n",
    "numeric_transformer = Pipeline(steps=[('scaler', StandardScaler())])\n",
    "\n",
    "# 將對於不同種類資料的資料準備過程封裝\n",
    "preprocessor = ColumnTransformer(\n",
    "    transformers=[\n",
    "        ('num', numeric_transformer, numeric_features),\n",
    "        ('cat', categorical_transformer, categorical_features)])\n",
    "# 將資料準備過程與最佳模型進行封裝\n",
    "clf = Pipeline(steps=[('preprocessor', preprocessor),\n",
    "                      ('classifier', GradientBoostingClassifier())])\n",
    "# 以相同亂數切割數據\n",
    "np.random.seed(100)\n",
    "features = df.drop(['y'],axis=1)\n",
    "labels = LabelEncoder().fit_transform(df['y'])\n",
    "X2_train, X2_test, y2_train, y2_test = train_test_split(features, labels, test_size=0.25)\n",
    "# 將封裝的模型訓練\n",
    "clf.fit(X2_train,y2_train)\n",
    "\n",
    "fpr, tpr, threshold = roc_curve(y2_test, clf.predict_proba(X2_test)[:,1])\n",
    "roc_auc = auc(fpr, tpr)\n",
    "print(\"model AUC ROC: %.3f\" % roc_auc)"
   ]
  },
  {
   "cell_type": "markdown",
   "metadata": {
    "deletable": false,
    "editable": false
   },
   "source": [
    "### 7.2. 建立存取Watson Machine Learning服務的認證client\n",
    "\n",
    "__取得Watson Machine Learning Service的credentials__\n",
    "1. 從Watson Studio左側的目錄列表中，選取__Watson Services__並在新視窗中開啟。\n",
    "2. 在__Machine Learning__的部分，點選要使用的服務。如果沒有，請點選上方的__Add__ __service__新增服務，之後點選進入該服務。\n",
    "3. 點選右邊列表中的__服務認證__，如果尚未有__服務認證__，點選__新建認證__。\n",
    "4. 點選__檢視認證__，將整段內容複製，儲存至__wml_credentials__變數中。\n",
    "<br>(截圖：[步驟1](https://github.com/nghia1991ad/wsl-workshop-material/blob/master/screenshot/wsl-add-deployment1.jpg?raw=true)、[步驟2](https://github.com/nghia1991ad/wsl-workshop-material/blob/master/screenshot/wsl-add-deployment2.jpg?raw=true)、[步驟3](https://github.com/nghia1991ad/wsl-workshop-material/blob/master/screenshot/wsl-add-wml-credentials.jpg?raw=true)、[步驟4](https://github.com/nghia1991ad/wsl-workshop-material/blob/master/screenshot/wsl-add-deployment4.JPG?raw=true))"
   ]
  },
  {
   "cell_type": "code",
   "execution_count": null,
   "metadata": {},
   "outputs": [],
   "source": [
    "# 建立存取Watson Machine Learning服務的認證client\n",
    "# wml_credentials 取得方式請參照上方說明\n",
    "wml_credentials = \n",
    "\n",
    "# 建立存取認證client\n",
    "from watson_machine_learning_client import WatsonMachineLearningAPIClient\n",
    "client = WatsonMachineLearningAPIClient(wml_credentials)"
   ]
  },
  {
   "cell_type": "markdown",
   "metadata": {
    "deletable": false,
    "editable": false
   },
   "source": [
    "### 7.3. 儲存模型為專案asset"
   ]
  },
  {
   "cell_type": "code",
   "execution_count": null,
   "metadata": {},
   "outputs": [],
   "source": [
    "# 模型附屬資訊\n",
    "author_name = 'Taiwan_IBM_Cloud_Team'\n",
    "framework_name = 'scikit-learn'\n",
    "model_name = 'bank_marketing_gradient_boosting'\n",
    "model_props = {client.repository.ModelMetaNames.AUTHOR_NAME: author_name, \n",
    "               client.repository.ModelMetaNames.FRAMEWORK_NAME: framework_name,\n",
    "               client.repository.ModelMetaNames.NAME: model_name}\n",
    "\n",
    "# 儲存模型至專案中\n",
    "stored_model = client.repository.store_model(model=clf, meta_props=model_props,\n",
    "                                                training_data=features, training_target=labels,)\n",
    "model_uid = client.repository.get_model_uid(stored_model)\n",
    "stored_model\n",
    "# 刪除已儲存的模型\n",
    "# client.repository.delete(model_uid)"
   ]
  },
  {
   "cell_type": "markdown",
   "metadata": {
    "deletable": false,
    "editable": false
   },
   "source": [
    "### 7.4. 部署模型"
   ]
  },
  {
   "cell_type": "code",
   "execution_count": null,
   "metadata": {},
   "outputs": [],
   "source": [
    "# 將專案中儲存的模型部署\n",
    "deployment_name = 'Bank Marketing Pipe Deployment'\n",
    "deployment_details = client.deployments.create(model_uid, deployment_name)\n",
    "deployment_uid = client.deployments.get_uid(deployment_details)\n",
    "scoring_endpoint = client.deployments.get_scoring_url(deployment_details)\n",
    "scoring_endpoint\n",
    "# 刪除已部署的模型\n",
    "# client.deployments.delete(deployment_uid)"
   ]
  },
  {
   "cell_type": "code",
   "execution_count": null,
   "metadata": {},
   "outputs": [],
   "source": [
    "# 刪除在專案中有相同名稱的模型，同時也會將其部署刪除\n",
    "uids = [m['metadata']['guid'] for m in client.repository.get_details()['models']['resources']]\n",
    "uids.remove(model_uid)\n",
    "for uid in uids:\n",
    "    model_details = client.repository.get_model_details(uid)\n",
    "    tmp_model = model_details['entity']['name']\n",
    "    if tmp_model == model_name:\n",
    "        client.repository.delete(uid)\n",
    "        print('Old Model '+uid+' deleted.')\n",
    "\n",
    "print(client.repository.list())\n",
    "print(client.deployments.list())\n",
    "# 結束模型部署"
   ]
  },
  {
   "cell_type": "markdown",
   "metadata": {
    "deletable": false,
    "editable": false
   },
   "source": [
    "## 8. 應用存取 <a class=\"anchor\" id=\"app_accessing\"></a>\n",
    "[返回目錄](#toc)\n",
    "### 8.1. 取得API URL"
   ]
  },
  {
   "cell_type": "code",
   "execution_count": null,
   "metadata": {},
   "outputs": [],
   "source": [
    "# 這是前一步驟時已經儲存的API URL\n",
    "scoring_endpoint\n",
    "# 但如果部署與存取程式碼是在不同檔案，需要重新建立client，以取得已部署模型的API URL\n",
    "# 取得已部署模型的uids，最新部署的模型會在序列中最後一個\n",
    "# uid = client.deployments.get_uids()[-1]\n",
    "# scoring_endpoint = client.deployments.get_details(uid)['entity']['scoring_url']"
   ]
  },
  {
   "cell_type": "markdown",
   "metadata": {
    "deletable": false,
    "editable": false
   },
   "source": [
    "### 8.2. 取得ml_instance_id與token"
   ]
  },
  {
   "cell_type": "code",
   "execution_count": null,
   "metadata": {
    "scrolled": true
   },
   "outputs": [],
   "source": [
    "import requests\n",
    "\n",
    "# 從之前已設定的wml_credentials中找到instance_id\n",
    "ml_instance_id = wml_credentials[\"instance_id\"]\n",
    "# 從之前已設定的wml_credentials中找到Watson Machine Learning service apikey貼至這\n",
    "apikey = wml_credentials[\"apikey\"]\n",
    "# Get an IAM token from IBM Cloud\n",
    "# 從IBM Cloud取得IAM token\n",
    "url     = \"https://iam.bluemix.net/oidc/token\"\n",
    "headers = { \"Content-Type\" : \"application/x-www-form-urlencoded\" }\n",
    "data    = \"apikey=\" + apikey + \"&grant_type=urn:ibm:params:oauth:grant-type:apikey\"\n",
    "IBM_cloud_IAM_uid = \"bx\"\n",
    "IBM_cloud_IAM_pwd = \"bx\"\n",
    "response  = requests.post( url, headers=headers, data=data, auth=( IBM_cloud_IAM_uid, IBM_cloud_IAM_pwd ) )\n",
    "iam_token = response.json()[\"access_token\"]\n",
    "iam_token"
   ]
  },
  {
   "cell_type": "code",
   "execution_count": null,
   "metadata": {},
   "outputs": [],
   "source": [
    "# 使用shell中的curl指令獲得token\n",
    "# x = !curl -X POST \\\n",
    "# 'https://iam.cloud.ibm.com/identity/token' \\\n",
    "# -H 'Content-Type: application/x-www-form-urlencoded' \\\n",
    "# -d 'grant_type=urn:ibm:params:oauth:grant-type:apikey&apikey={apikey}'\n",
    "# json.loads(x[5])['access_token']"
   ]
  },
  {
   "cell_type": "markdown",
   "metadata": {
    "deletable": false,
    "editable": false
   },
   "source": [
    "### 8.3. 存取應用API"
   ]
  },
  {
   "cell_type": "code",
   "execution_count": null,
   "metadata": {},
   "outputs": [],
   "source": [
    "import requests, json\n",
    "\n",
    "# 建立API存取header\n",
    "headers = {'Content-Type': 'application/json', 'Authorization': 'Bearer ' + iam_token, 'ML-Instance-ID': ml_instance_id}\n",
    "# 測試參數\n",
    "person = {      \"age\":        '40', # 'numeric'\n",
    "                \"job\":'management', # 'admin.','blue-collar','entrepreneur','housemaid','management','retired','self-employed','services','student','technician','unemployed','unknown'\n",
    "            \"marital\":   'married', # 'divorced','married','single','unknown'\n",
    "          \"education\":  'tertiary', # 'primary', 'secondary', 'tertiary', 'unknown'\n",
    "            \"default\":        'no', # 'no','yes','unknown'\n",
    "            \"balance\":      '1787', # 'numeric'\n",
    "            \"housing\":       'yes', # 'no','yes','unknown'\n",
    "               \"loan\":        'no', # 'no','yes','unknown'\n",
    "            \"contact\":  'cellular', # 'cellular','telephone'\n",
    "              \"month\":        '10', # '1'-'12'\n",
    "           \"duration\":        '10', # 'numeric'\n",
    "           \"campaign\":         '1', # 'numeric'\n",
    "              \"pdays\":        '-1', # 'numeric'\n",
    "           \"previous\":         '0', # 'numeric'\n",
    "           \"poutcome\":   'success'} # 'failure','nonexistent','success'\n",
    "fields = list(person.keys())\n",
    "values = [list(person.values()),]\n",
    "\n",
    "# 建立API籌載\n",
    "payload = {\"fields\": fields, \"values\": values}\n",
    "# 傳送API請求，獲得回應\n",
    "response_scoring = requests.post(scoring_endpoint, json=payload, headers=headers)\n",
    "print(\"Scoring response\")\n",
    "apires = json.loads(response_scoring.text)\n",
    "# 顯示測試參數\n",
    "print(pd.DataFrame(person,index=['Person1']))\n",
    "plt.figure(figsize=(8,8))\n",
    "plt.pie(apires['values'][0][1],labels=['No',\"Yes\"],colors=[\"pink\",\"lightgreen\"],autopct='%1.1f%%',startangle=-145)\n",
    "plt.title(\"Customer prediction\")\n",
    "print('\\n')\n",
    "print(apires)\n",
    "plt.show()"
   ]
  },
  {
   "cell_type": "markdown",
   "metadata": {},
   "source": [
    "## 9. 結語 <a class=\"anchor\" id=\"concluding_remarks\"></a>\n",
    "[返回目錄](#toc)\n",
    "\n",
    "在這個實習中，我們帶領大家一步步體驗一般在資料科學分析資料的步驟，商業理解、資料蒐集、資料理解、資料準備、建立模型、模型評估。也結合了Watson Studio的原生雲端優勢，可以輕易的讓程式碼存取網路資料，並把模型部署至雲端，馬上將數據轉換為實用的商業模型。"
   ]
  },
  {
   "cell_type": "code",
   "execution_count": null,
   "metadata": {},
   "outputs": [],
   "source": []
  }
 ],
 "metadata": {
  "kernelspec": {
   "display_name": "Python 3.6",
   "language": "python",
   "name": "python3"
  },
  "language_info": {
   "codemirror_mode": {
    "name": "ipython",
    "version": 3
   },
   "file_extension": ".py",
   "mimetype": "text/x-python",
   "name": "python",
   "nbconvert_exporter": "python",
   "pygments_lexer": "ipython3",
   "version": "3.6.8"
  }
 },
 "nbformat": 4,
 "nbformat_minor": 1
}
